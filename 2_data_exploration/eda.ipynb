{
 "cells": [
  {
   "cell_type": "code",
   "execution_count": 74,
   "id": "b489cb9e",
   "metadata": {
    "ExecuteTime": {
     "end_time": "2022-03-07T13:23:47.061053Z",
     "start_time": "2022-03-07T13:23:47.040060Z"
    }
   },
   "outputs": [],
   "source": [
    "import pandas as pd\n",
    "import numpy as np\n",
    "from matplotlib import pyplot as plt\n",
    "pd.plotting.register_matplotlib_converters()\n",
    "import seaborn as sns"
   ]
  },
  {
   "cell_type": "markdown",
   "id": "d07912a0",
   "metadata": {},
   "source": [
    "# Context"
   ]
  },
  {
   "cell_type": "code",
   "execution_count": 75,
   "id": "6b981d68",
   "metadata": {
    "ExecuteTime": {
     "end_time": "2022-03-07T13:23:48.403951Z",
     "start_time": "2022-03-07T13:23:48.106932Z"
    }
   },
   "outputs": [
    {
     "data": {
      "text/html": [
       "<div>\n",
       "<style scoped>\n",
       "    .dataframe tbody tr th:only-of-type {\n",
       "        vertical-align: middle;\n",
       "    }\n",
       "\n",
       "    .dataframe tbody tr th {\n",
       "        vertical-align: top;\n",
       "    }\n",
       "\n",
       "    .dataframe thead th {\n",
       "        text-align: right;\n",
       "    }\n",
       "</style>\n",
       "<table border=\"1\" class=\"dataframe\">\n",
       "  <thead>\n",
       "    <tr style=\"text-align: right;\">\n",
       "      <th></th>\n",
       "      <th>PassengerId</th>\n",
       "      <th>Survived</th>\n",
       "      <th>Pclass</th>\n",
       "      <th>Name</th>\n",
       "      <th>Sex</th>\n",
       "      <th>Age</th>\n",
       "      <th>SibSp</th>\n",
       "      <th>Parch</th>\n",
       "      <th>Ticket</th>\n",
       "      <th>Fare</th>\n",
       "      <th>Cabin</th>\n",
       "      <th>Embarked</th>\n",
       "    </tr>\n",
       "  </thead>\n",
       "  <tbody>\n",
       "    <tr>\n",
       "      <th>0</th>\n",
       "      <td>0</td>\n",
       "      <td>1</td>\n",
       "      <td>1</td>\n",
       "      <td>Oconnor, Frankie</td>\n",
       "      <td>male</td>\n",
       "      <td>NaN</td>\n",
       "      <td>2</td>\n",
       "      <td>0</td>\n",
       "      <td>209245</td>\n",
       "      <td>27.14</td>\n",
       "      <td>C12239</td>\n",
       "      <td>S</td>\n",
       "    </tr>\n",
       "    <tr>\n",
       "      <th>1</th>\n",
       "      <td>1</td>\n",
       "      <td>0</td>\n",
       "      <td>3</td>\n",
       "      <td>Bryan, Drew</td>\n",
       "      <td>male</td>\n",
       "      <td>NaN</td>\n",
       "      <td>0</td>\n",
       "      <td>0</td>\n",
       "      <td>27323</td>\n",
       "      <td>13.35</td>\n",
       "      <td>NaN</td>\n",
       "      <td>S</td>\n",
       "    </tr>\n",
       "    <tr>\n",
       "      <th>2</th>\n",
       "      <td>2</td>\n",
       "      <td>0</td>\n",
       "      <td>3</td>\n",
       "      <td>Owens, Kenneth</td>\n",
       "      <td>male</td>\n",
       "      <td>0.33</td>\n",
       "      <td>1</td>\n",
       "      <td>2</td>\n",
       "      <td>CA 457703</td>\n",
       "      <td>71.29</td>\n",
       "      <td>NaN</td>\n",
       "      <td>S</td>\n",
       "    </tr>\n",
       "    <tr>\n",
       "      <th>3</th>\n",
       "      <td>3</td>\n",
       "      <td>0</td>\n",
       "      <td>3</td>\n",
       "      <td>Kramer, James</td>\n",
       "      <td>male</td>\n",
       "      <td>19.00</td>\n",
       "      <td>0</td>\n",
       "      <td>0</td>\n",
       "      <td>A. 10866</td>\n",
       "      <td>13.04</td>\n",
       "      <td>NaN</td>\n",
       "      <td>S</td>\n",
       "    </tr>\n",
       "    <tr>\n",
       "      <th>4</th>\n",
       "      <td>4</td>\n",
       "      <td>1</td>\n",
       "      <td>3</td>\n",
       "      <td>Bond, Michael</td>\n",
       "      <td>male</td>\n",
       "      <td>25.00</td>\n",
       "      <td>0</td>\n",
       "      <td>0</td>\n",
       "      <td>427635</td>\n",
       "      <td>7.76</td>\n",
       "      <td>NaN</td>\n",
       "      <td>S</td>\n",
       "    </tr>\n",
       "  </tbody>\n",
       "</table>\n",
       "</div>"
      ],
      "text/plain": [
       "   PassengerId  Survived  Pclass              Name   Sex    Age  SibSp  Parch  \\\n",
       "0            0         1       1  Oconnor, Frankie  male    NaN      2      0   \n",
       "1            1         0       3       Bryan, Drew  male    NaN      0      0   \n",
       "2            2         0       3    Owens, Kenneth  male   0.33      1      2   \n",
       "3            3         0       3     Kramer, James  male  19.00      0      0   \n",
       "4            4         1       3     Bond, Michael  male  25.00      0      0   \n",
       "\n",
       "      Ticket   Fare   Cabin Embarked  \n",
       "0     209245  27.14  C12239        S  \n",
       "1      27323  13.35     NaN        S  \n",
       "2  CA 457703  71.29     NaN        S  \n",
       "3   A. 10866  13.04     NaN        S  \n",
       "4     427635   7.76     NaN        S  "
      ]
     },
     "execution_count": 75,
     "metadata": {},
     "output_type": "execute_result"
    }
   ],
   "source": [
    "train = pd.read_csv('./train.csv') # загружаем датасет\n",
    "train.head()"
   ]
  },
  {
   "cell_type": "markdown",
   "id": "9b4320c6",
   "metadata": {},
   "source": [
    "# Data quality assessment"
   ]
  },
  {
   "cell_type": "code",
   "execution_count": 76,
   "id": "4192e960",
   "metadata": {
    "ExecuteTime": {
     "end_time": "2022-03-07T13:23:51.767107Z",
     "start_time": "2022-03-07T13:23:49.676912Z"
    }
   },
   "outputs": [
    {
     "data": {
      "text/plain": [
       "Text(0.5, 1.0, 'Missing values heatmap')"
      ]
     },
     "execution_count": 76,
     "metadata": {},
     "output_type": "execute_result"
    },
    {
     "data": {
      "image/png": "[encoded data removed]",
      "text/plain": [
       "<Figure size 432x288 with 1 Axes>"
      ]
     },
     "metadata": {
      "needs_background": "light"
     },
     "output_type": "display_data"
    }
   ],
   "source": [
    "train.isnull().sum() # сколько пропущено данных\n",
    "sns.heatmap(train.isnull(), cbar = False).set_title(\"Missing values heatmap\") # график"
   ]
  },
  {
   "cell_type": "code",
   "execution_count": 77,
   "id": "db3d0155",
   "metadata": {
    "ExecuteTime": {
     "end_time": "2022-03-07T13:23:59.083287Z",
     "start_time": "2022-03-07T13:23:58.894254Z"
    }
   },
   "outputs": [
    {
     "data": {
      "text/plain": [
       "0        44.00\n",
       "1        31.00\n",
       "2         0.33\n",
       "3        19.00\n",
       "4        25.00\n",
       "         ...  \n",
       "99995    62.00\n",
       "99996    66.00\n",
       "99997    37.00\n",
       "99998    51.00\n",
       "99999    55.00\n",
       "Name: Age, Length: 100000, dtype: float64"
      ]
     },
     "execution_count": 77,
     "metadata": {},
     "output_type": "execute_result"
    }
   ],
   "source": [
    "train.Embarked.fillna(train.Embarked.mode()[0], inplace = True) # заполняем НАН значения модой по фиче\n",
    "train.Cabin = train.Cabin.fillna('NA') # создали новую категорию\n",
    "train['Salutation'] = train.Name.apply(lambda name: name.split(',')[1].split('.')[0].strip()) # убрали лишнее в имени\n",
    "grp = train.groupby(['Sex', 'Pclass']) \n",
    "grp.Age.apply(lambda x: x.fillna(x.median())) # медиана по полу и классу"
   ]
  },
  {
   "cell_type": "code",
   "execution_count": 78,
   "id": "ce139958",
   "metadata": {
    "ExecuteTime": {
     "end_time": "2022-03-07T13:24:00.643268Z",
     "start_time": "2022-03-07T13:24:00.628265Z"
    }
   },
   "outputs": [],
   "source": [
    "train.Age.fillna(train.Age.median(), inplace = True) # заполняем медиана=у по возрасту"
   ]
  },
  {
   "cell_type": "code",
   "execution_count": 79,
   "id": "bcc1896d",
   "metadata": {
    "ExecuteTime": {
     "end_time": "2022-03-07T13:24:07.565055Z",
     "start_time": "2022-03-07T13:24:07.422029Z"
    }
   },
   "outputs": [
    {
     "data": {
      "text/plain": [
       "PassengerId    100000\n",
       "Survived            2\n",
       "Pclass              3\n",
       "Name            92144\n",
       "Sex                 2\n",
       "Age               173\n",
       "SibSp               7\n",
       "Parch               8\n",
       "Ticket          75331\n",
       "Fare            15935\n",
       "Cabin           26993\n",
       "Embarked            3\n",
       "Salutation       3953\n",
       "dtype: int64"
      ]
     },
     "execution_count": 79,
     "metadata": {},
     "output_type": "execute_result"
    }
   ],
   "source": [
    "train.nunique()"
   ]
  },
  {
   "cell_type": "markdown",
   "id": "5408eca5",
   "metadata": {},
   "source": [
    "# Data exploration"
   ]
  },
  {
   "cell_type": "code",
   "execution_count": 69,
   "id": "445b7710",
   "metadata": {
    "ExecuteTime": {
     "end_time": "2022-03-07T13:11:16.989169Z",
     "start_time": "2022-03-07T13:11:15.185010Z"
    },
    "scrolled": true
   },
   "outputs": [
    {
     "data": {
      "text/plain": [
       "<AxesSubplot:xlabel='Sex', ylabel='Survived'>"
      ]
     },
     "execution_count": 69,
     "metadata": {},
     "output_type": "execute_result"
    },
    {
     "data": {
      "image/png": "[encoded data removed]",
      "text/plain": [
       "<Figure size 720x360 with 1 Axes>"
      ]
     },
     "metadata": {
      "needs_background": "light"
     },
     "output_type": "display_data"
    }
   ],
   "source": [
    "fix, ax = plt.subplots(figsize=(10,5))\n",
    "plt.xticks(rotation=1)\n",
    "sns.barplot(x='Sex',y='Survived', data=train) # кол-во выживших по полу"
   ]
  },
  {
   "cell_type": "code",
   "execution_count": 70,
   "id": "fd0a6a82",
   "metadata": {
    "ExecuteTime": {
     "end_time": "2022-03-07T13:12:02.886923Z",
     "start_time": "2022-03-07T13:12:01.293910Z"
    }
   },
   "outputs": [
    {
     "data": {
      "text/plain": [
       "<AxesSubplot:xlabel='Pclass', ylabel='Survived'>"
      ]
     },
     "execution_count": 70,
     "metadata": {},
     "output_type": "execute_result"
    },
    {
     "data": {
      "image/png": "[encoded data removed]",
      "text/plain": [
       "<Figure size 432x288 with 1 Axes>"
      ]
     },
     "metadata": {
      "needs_background": "light"
     },
     "output_type": "display_data"
    }
   ],
   "source": [
    "sns.barplot(x='Pclass', y='Survived', data=train) # кол-во выживших по классу"
   ]
  },
  {
   "cell_type": "code",
   "execution_count": 72,
   "id": "27b59bbb",
   "metadata": {
    "ExecuteTime": {
     "end_time": "2022-03-07T13:12:52.922301Z",
     "start_time": "2022-03-07T13:12:51.315128Z"
    }
   },
   "outputs": [
    {
     "data": {
      "text/plain": [
       "<AxesSubplot:xlabel='Sex', ylabel='Pclass'>"
      ]
     },
     "execution_count": 72,
     "metadata": {},
     "output_type": "execute_result"
    },
    {
     "data": {
      "image/png": "[encoded data removed]",
      "text/plain": [
       "<Figure size 432x288 with 1 Axes>"
      ]
     },
     "metadata": {
      "needs_background": "light"
     },
     "output_type": "display_data"
    }
   ],
   "source": [
    "sns.barplot(x='Sex', y='Pclass', data=train) # в какик классах более всего м/ж"
   ]
  },
  {
   "cell_type": "code",
   "execution_count": 73,
   "id": "bece232d",
   "metadata": {
    "ExecuteTime": {
     "end_time": "2022-03-07T13:13:03.279182Z",
     "start_time": "2022-03-07T13:12:53.873422Z"
    }
   },
   "outputs": [
    {
     "data": {
      "text/plain": [
       "<AxesSubplot:xlabel='Age', ylabel='Survived'>"
      ]
     },
     "execution_count": 73,
     "metadata": {},
     "output_type": "execute_result"
    },
    {
     "data": {
      "image/png": "[encoded data removed]",
      "text/plain": [
       "<Figure size 432x288 with 1 Axes>"
      ]
     },
     "metadata": {
      "needs_background": "light"
     },
     "output_type": "display_data"
    }
   ],
   "source": [
    "sns.barplot(x='Age', y='Survived', data=train) # график по возрасту, который как по мне ничего не дает"
   ]
  },
  {
   "cell_type": "markdown",
   "id": "034945c8",
   "metadata": {},
   "source": [
    "# Summary"
   ]
  },
  {
   "cell_type": "markdown",
   "id": "1098aea9",
   "metadata": {},
   "source": [
    "Мы узнали, что выжило больше женщин, а так же люди из 1го класса. А так же лично у меня не понятно, что там с возрастом\n",
    "We learned that more women survived, as well as people from the 1st grade. And also, personally, I don't know what's going on with age."
   ]
  }
 ],
 "metadata": {
  "kernelspec": {
   "display_name": "Python 3 (ipykernel)",
   "language": "python",
   "name": "python3"
  },
  "language_info": {
   "codemirror_mode": {
    "name": "ipython",
    "version": 3
   },
   "file_extension": ".py",
   "mimetype": "text/x-python",
   "name": "python",
   "nbconvert_exporter": "python",
   "pygments_lexer": "ipython3",
   "version": "3.10.2"
  },
  "toc": {
   "base_numbering": 1,
   "nav_menu": {},
   "number_sections": true,
   "sideBar": true,
   "skip_h1_title": false,
   "title_cell": "Table of Contents",
   "title_sidebar": "Contents",
   "toc_cell": false,
   "toc_position": {},
   "toc_section_display": true,
   "toc_window_display": false
  }
 },
 "nbformat": 4,
 "nbformat_minor": 5
}
